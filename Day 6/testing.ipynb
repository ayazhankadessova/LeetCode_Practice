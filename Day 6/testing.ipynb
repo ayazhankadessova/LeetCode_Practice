{
 "cells": [
  {
   "cell_type": "code",
   "execution_count": 6,
   "metadata": {},
   "outputs": [
    {
     "name": "stdout",
     "output_type": "stream",
     "text": [
      "two strings have common characters\n"
     ]
    }
   ],
   "source": [
    "word = 'hello'\n",
    "\n",
    "word2 = 'hi'\n",
    "\n",
    "\n",
    "def mask(word):\n",
    "    mask_a = 0\n",
    "    for c in word:\n",
    "        mask_a |= (1 << (ord(c) - ord('a')))\n",
    "    return mask_a\n",
    "\n",
    "if mask(word) & mask(word2)> 0:\n",
    "    print('two strings have common characters')"
   ]
  }
 ],
 "metadata": {
  "kernelspec": {
   "display_name": "Python 3.9.5 64-bit",
   "language": "python",
   "name": "python3"
  },
  "language_info": {
   "codemirror_mode": {
    "name": "ipython",
    "version": 3
   },
   "file_extension": ".py",
   "mimetype": "text/x-python",
   "name": "python",
   "nbconvert_exporter": "python",
   "pygments_lexer": "ipython3",
   "version": "3.9.5"
  },
  "orig_nbformat": 4,
  "vscode": {
   "interpreter": {
    "hash": "7812ea015bdcee6f23a998adcdd2ef97c151c0c241b7b7070987d9313e41299d"
   }
  }
 },
 "nbformat": 4,
 "nbformat_minor": 2
}
