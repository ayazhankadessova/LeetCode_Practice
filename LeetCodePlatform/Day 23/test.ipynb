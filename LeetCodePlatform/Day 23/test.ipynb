{
 "cells": [
  {
   "cell_type": "code",
   "execution_count": 11,
   "metadata": {},
   "outputs": [
    {
     "name": "stdout",
     "output_type": "stream",
     "text": [
      "False\n"
     ]
    }
   ],
   "source": [
    "from xmlrpc.client import Boolean\n",
    "\n",
    "\n",
    "large_str = 'labaratory'\n",
    "substring = 'labaratoryy'\n",
    "\n",
    "class Solution:\n",
    "    def substring(self, large_str: str, substring: str) -> Boolean:\n",
    "        if len(substring) < 1:\n",
    "            return False\n",
    "        elif len(substring) > len(large_str):\n",
    "            return False\n",
    "        else:\n",
    "            pointer1 = 0\n",
    "            pointer2 = len(substring)\n",
    "            stopping = len(large_str)+1\n",
    "\n",
    "            while pointer2 != stopping:\n",
    "                if large_str[pointer1:pointer2] == substring:\n",
    "                    return True\n",
    "                else:\n",
    "                    pointer1 +=1\n",
    "                    pointer2 +=1\n",
    "            return False\n",
    "\n",
    "def main():\n",
    "    p = Solution()\n",
    "    print(p.substring(large_str, substring))\n",
    "  \n",
    "  \n",
    "if __name__ == '__main__':\n",
    "    main()"
   ]
  },
  {
   "cell_type": "code",
   "execution_count": 15,
   "metadata": {},
   "outputs": [
    {
     "name": "stdout",
     "output_type": "stream",
     "text": [
      "7\n"
     ]
    }
   ],
   "source": [
    "import math\n",
    "# Helper method\n",
    "def is_prime(n: int):\n",
    "    if n < 2:\n",
    "        return False\n",
    "    if n < 4:\n",
    "        return True\n",
    "    for i in range(2, int(math.sqrt(n)) + 1):\n",
    "        if n % i == 0:\n",
    "            return False\n",
    "        return True\n",
    "\n",
    "class Solution:\n",
    "\n",
    "    #    # instance attributes\n",
    "    # def __init__(self, name, age):\n",
    "    #     self.num = number\n",
    "        \n",
    "    def next_prime(self, n: int) -> int:\n",
    "        if n <= 1:\n",
    "            return 2\n",
    "            \n",
    "        n += 1\n",
    "        while True:\n",
    "            if is_prime(n):\n",
    "                return n\n",
    "            n += 1\n",
    "\n",
    "\n",
    "def main():\n",
    "    p = Solution()\n",
    "    print(p.next_prime(5))\n",
    "  \n",
    "  \n",
    "if __name__ == '__main__':\n",
    "    main()"
   ]
  }
 ],
 "metadata": {
  "kernelspec": {
   "display_name": "Python 3.9.5 64-bit",
   "language": "python",
   "name": "python3"
  },
  "language_info": {
   "codemirror_mode": {
    "name": "ipython",
    "version": 3
   },
   "file_extension": ".py",
   "mimetype": "text/x-python",
   "name": "python",
   "nbconvert_exporter": "python",
   "pygments_lexer": "ipython3",
   "version": "3.9.5"
  },
  "orig_nbformat": 4,
  "vscode": {
   "interpreter": {
    "hash": "7812ea015bdcee6f23a998adcdd2ef97c151c0c241b7b7070987d9313e41299d"
   }
  }
 },
 "nbformat": 4,
 "nbformat_minor": 2
}
